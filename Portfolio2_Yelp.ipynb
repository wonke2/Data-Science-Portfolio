{
 "cells": [
  {
   "cell_type": "markdown",
   "id": "a3906bb2",
   "metadata": {},
   "source": [
    "## Analysis of Yelp Dataset Portfolio2 "
   ]
  },
  {
   "cell_type": "markdown",
   "id": "4b9492a4",
   "metadata": {},
   "source": [
    "The portfolio aims to use various data processing techniques to clean and preprocess the data, filter out irrelevant data, and remove any outliers that could impact the accuracy of the model. Finally, the portfolio aims to use linear regression models to train and validate the model's accuracy in predicting user ratings towards business. Ultimately, the objective is to build a reliable model that can be used to provide insights into user preferences and help businesses make data-driven decisions to improve their services and offerings. In this task, we will explore the impacts of feature selections and different sizes of training/testing data on the model performance. We will use Yelp sub-dataset."
   ]
  },
  {
   "cell_type": "markdown",
   "id": "f9c65efd",
   "metadata": {},
   "source": [
    "### Import the output sample data from Portfolio1\n",
    "The csv file named `Yelp_Portfolio2_Input.csv` is provided. You may need to use the Pandas method, i.e., `read_csv`, for doing this. After that, please import the csv file and print out its total length."
   ]
  },
  {
   "cell_type": "code",
   "execution_count": 352,
   "id": "71dbcf80",
   "metadata": {},
   "outputs": [],
   "source": [
    "import pandas as pd\n",
    "import numpy as np\n",
    "from sklearn.model_selection import train_test_split\n",
    "from sklearn import linear_model\n",
    "from sklearn.metrics import r2_score\n",
    "\n",
    "import seaborn as sns\n",
    "import matplotlib.pylab as plt\n",
    "%matplotlib inline"
   ]
  },
  {
   "cell_type": "code",
   "execution_count": 353,
   "id": "9bc01727",
   "metadata": {},
   "outputs": [
    {
     "name": "stdout",
     "output_type": "stream",
     "text": [
      "38654\n"
     ]
    }
   ],
   "source": [
    "sample_data = pd.read_csv('data/Yelp_Portfolio2_Input.csv')\n",
    "print(len(sample_data))"
   ]
  },
  {
   "cell_type": "code",
   "execution_count": 354,
   "id": "cbf9f046",
   "metadata": {
    "scrolled": true
   },
   "outputs": [
    {
     "data": {
      "text/html": [
       "<div>\n",
       "<style scoped>\n",
       "    .dataframe tbody tr th:only-of-type {\n",
       "        vertical-align: middle;\n",
       "    }\n",
       "\n",
       "    .dataframe tbody tr th {\n",
       "        vertical-align: top;\n",
       "    }\n",
       "\n",
       "    .dataframe thead th {\n",
       "        text-align: right;\n",
       "    }\n",
       "</style>\n",
       "<table border=\"1\" class=\"dataframe\">\n",
       "  <thead>\n",
       "    <tr style=\"text-align: right;\">\n",
       "      <th></th>\n",
       "      <th>business_categories</th>\n",
       "      <th>business_city</th>\n",
       "      <th>business_id</th>\n",
       "      <th>date</th>\n",
       "      <th>stars</th>\n",
       "      <th>text</th>\n",
       "      <th>useful</th>\n",
       "      <th>user_id</th>\n",
       "    </tr>\n",
       "  </thead>\n",
       "  <tbody>\n",
       "    <tr>\n",
       "      <th>0</th>\n",
       "      <td>Middle Eastern; Restaurants</td>\n",
       "      <td>Tempe</td>\n",
       "      <td>6oRAC4uyJCsJl1X0WZpVSA</td>\n",
       "      <td>14/6/2012</td>\n",
       "      <td>4</td>\n",
       "      <td>love the gyro plate. Rice is so good and I als...</td>\n",
       "      <td>1</td>\n",
       "      <td>0hT2KtfLiobPvh6cDC8JQg</td>\n",
       "    </tr>\n",
       "    <tr>\n",
       "      <th>1</th>\n",
       "      <td>Tattoo; Beauty &amp; Spas</td>\n",
       "      <td>Tempe</td>\n",
       "      <td>WGNIYMeXPyoWav1APUq7jA</td>\n",
       "      <td>23/12/2011</td>\n",
       "      <td>4</td>\n",
       "      <td>Good tattoo shop. Clean space, multiple artist...</td>\n",
       "      <td>2</td>\n",
       "      <td>Xm8HXE1JHqscXe5BKf0GFQ</td>\n",
       "    </tr>\n",
       "    <tr>\n",
       "      <th>2</th>\n",
       "      <td>Tires; Automotive</td>\n",
       "      <td>Glendale</td>\n",
       "      <td>rxQ2PIjhAx6dgAqUalf99Q</td>\n",
       "      <td>9/9/2012</td>\n",
       "      <td>5</td>\n",
       "      <td>Never having dealt with a Discount Tire in Pho...</td>\n",
       "      <td>0</td>\n",
       "      <td>HLbhD2OyiMCUDRR4c1iXaw</td>\n",
       "    </tr>\n",
       "    <tr>\n",
       "      <th>3</th>\n",
       "      <td>Sushi Bars; Restaurants</td>\n",
       "      <td>Tempe</td>\n",
       "      <td>EC9WB-iVjd28B6R6KIZ8TA</td>\n",
       "      <td>4/8/2010</td>\n",
       "      <td>4</td>\n",
       "      <td>Cliff notes\\n- Cheap: $1-2/plate\\n- Fast: It's...</td>\n",
       "      <td>0</td>\n",
       "      <td>jdoGEEy5s-5L1O_lNzEi2g</td>\n",
       "    </tr>\n",
       "    <tr>\n",
       "      <th>4</th>\n",
       "      <td>Arts &amp; Entertainment; Cinema</td>\n",
       "      <td>Tempe</td>\n",
       "      <td>LDJhwZN14AZOJyHjg2lkRw</td>\n",
       "      <td>13/12/2011</td>\n",
       "      <td>4</td>\n",
       "      <td>We got passes for the preview of Mission Impos...</td>\n",
       "      <td>0</td>\n",
       "      <td>Mb0psF4WQF7gZSuZafVr-g</td>\n",
       "    </tr>\n",
       "  </tbody>\n",
       "</table>\n",
       "</div>"
      ],
      "text/plain": [
       "            business_categories business_city             business_id  \\\n",
       "0   Middle Eastern; Restaurants         Tempe  6oRAC4uyJCsJl1X0WZpVSA   \n",
       "1         Tattoo; Beauty & Spas         Tempe  WGNIYMeXPyoWav1APUq7jA   \n",
       "2             Tires; Automotive      Glendale  rxQ2PIjhAx6dgAqUalf99Q   \n",
       "3       Sushi Bars; Restaurants         Tempe  EC9WB-iVjd28B6R6KIZ8TA   \n",
       "4  Arts & Entertainment; Cinema         Tempe  LDJhwZN14AZOJyHjg2lkRw   \n",
       "\n",
       "         date  stars                                               text  \\\n",
       "0   14/6/2012      4  love the gyro plate. Rice is so good and I als...   \n",
       "1  23/12/2011      4  Good tattoo shop. Clean space, multiple artist...   \n",
       "2    9/9/2012      5  Never having dealt with a Discount Tire in Pho...   \n",
       "3    4/8/2010      4  Cliff notes\\n- Cheap: $1-2/plate\\n- Fast: It's...   \n",
       "4  13/12/2011      4  We got passes for the preview of Mission Impos...   \n",
       "\n",
       "   useful                 user_id  \n",
       "0       1  0hT2KtfLiobPvh6cDC8JQg  \n",
       "1       2  Xm8HXE1JHqscXe5BKf0GFQ  \n",
       "2       0  HLbhD2OyiMCUDRR4c1iXaw  \n",
       "3       0  jdoGEEy5s-5L1O_lNzEi2g  \n",
       "4       0  Mb0psF4WQF7gZSuZafVr-g  "
      ]
     },
     "execution_count": 354,
     "metadata": {},
     "output_type": "execute_result"
    }
   ],
   "source": [
    "sample_data.head()"
   ]
  },
  {
   "cell_type": "markdown",
   "id": "c16c3d9b",
   "metadata": {},
   "source": [
    "# Q1. `business_categories` processing"
   ]
  },
  {
   "cell_type": "markdown",
   "id": "eb5b37b2",
   "metadata": {},
   "source": [
    "You may notice that there are a total of 693 unique business categories present in the sample data. Please write a code snippet to confirm this number. Then, generate a boxplot of `stars` for `business_categories`."
   ]
  },
  {
   "cell_type": "code",
   "execution_count": 355,
   "id": "0238816f",
   "metadata": {},
   "outputs": [
    {
     "data": {
      "text/plain": [
       "693"
      ]
     },
     "execution_count": 355,
     "metadata": {},
     "output_type": "execute_result"
    }
   ],
   "source": [
    "sample_data['business_categories'].nunique()"
   ]
  },
  {
   "cell_type": "code",
   "execution_count": 356,
   "id": "d3f0129b",
   "metadata": {},
   "outputs": [
    {
     "data": {
      "text/plain": [
       "<AxesSubplot:>"
      ]
     },
     "execution_count": 356,
     "metadata": {},
     "output_type": "execute_result"
    },
    {
     "data": {
      "image/png": "[encoded data removed]",
      "text/plain": [
       "<Figure size 432x288 with 1 Axes>"
      ]
     },
     "metadata": {
      "needs_background": "light"
     },
     "output_type": "display_data"
    }
   ],
   "source": [
    "sample_data.plot(kind=\"box\", x=\"business_categories\", y=\"stars\")"
   ]
  },
  {
   "cell_type": "markdown",
   "id": "a578c205",
   "metadata": {},
   "source": [
    "Sometimes we need to extract some major categories, such as `Middle Eastern; Restaurants` and `Sushi Bars; Restaurants`, both of which should belong to the `Restaurants` category."
   ]
  },
  {
   "cell_type": "markdown",
   "id": "69c2aae2",
   "metadata": {},
   "source": [
    "### Q1.1 How to efficiently and accurately extract the last category value (i.e., categorieN) from the `business_categories` column in a dataset, where the format of each row is a semicolon-separated list of categories (i.e., 'categorie1; categorie2;...;categorieN')? and replace the original string with this last category value. At last, print the first five rows."
   ]
  },
  {
   "cell_type": "code",
   "execution_count": 357,
   "id": "c1386d1f",
   "metadata": {},
   "outputs": [],
   "source": [
    "for i, row in sample_data.iterrows():\n",
    "    categories = row['business_categories'].split(';')\n",
    "    last_category = categories[-1].strip()\n",
    "    sample_data.at[i, 'business_categories'] = last_category"
   ]
  },
  {
   "cell_type": "code",
   "execution_count": 358,
   "id": "d18237aa",
   "metadata": {},
   "outputs": [
    {
     "data": {
      "text/html": [
       "<div>\n",
       "<style scoped>\n",
       "    .dataframe tbody tr th:only-of-type {\n",
       "        vertical-align: middle;\n",
       "    }\n",
       "\n",
       "    .dataframe tbody tr th {\n",
       "        vertical-align: top;\n",
       "    }\n",
       "\n",
       "    .dataframe thead th {\n",
       "        text-align: right;\n",
       "    }\n",
       "</style>\n",
       "<table border=\"1\" class=\"dataframe\">\n",
       "  <thead>\n",
       "    <tr style=\"text-align: right;\">\n",
       "      <th></th>\n",
       "      <th>business_categories</th>\n",
       "      <th>business_city</th>\n",
       "      <th>business_id</th>\n",
       "      <th>date</th>\n",
       "      <th>stars</th>\n",
       "      <th>text</th>\n",
       "      <th>useful</th>\n",
       "      <th>user_id</th>\n",
       "    </tr>\n",
       "  </thead>\n",
       "  <tbody>\n",
       "    <tr>\n",
       "      <th>0</th>\n",
       "      <td>Restaurants</td>\n",
       "      <td>Tempe</td>\n",
       "      <td>6oRAC4uyJCsJl1X0WZpVSA</td>\n",
       "      <td>14/6/2012</td>\n",
       "      <td>4</td>\n",
       "      <td>love the gyro plate. Rice is so good and I als...</td>\n",
       "      <td>1</td>\n",
       "      <td>0hT2KtfLiobPvh6cDC8JQg</td>\n",
       "    </tr>\n",
       "    <tr>\n",
       "      <th>1</th>\n",
       "      <td>Beauty &amp; Spas</td>\n",
       "      <td>Tempe</td>\n",
       "      <td>WGNIYMeXPyoWav1APUq7jA</td>\n",
       "      <td>23/12/2011</td>\n",
       "      <td>4</td>\n",
       "      <td>Good tattoo shop. Clean space, multiple artist...</td>\n",
       "      <td>2</td>\n",
       "      <td>Xm8HXE1JHqscXe5BKf0GFQ</td>\n",
       "    </tr>\n",
       "    <tr>\n",
       "      <th>2</th>\n",
       "      <td>Automotive</td>\n",
       "      <td>Glendale</td>\n",
       "      <td>rxQ2PIjhAx6dgAqUalf99Q</td>\n",
       "      <td>9/9/2012</td>\n",
       "      <td>5</td>\n",
       "      <td>Never having dealt with a Discount Tire in Pho...</td>\n",
       "      <td>0</td>\n",
       "      <td>HLbhD2OyiMCUDRR4c1iXaw</td>\n",
       "    </tr>\n",
       "    <tr>\n",
       "      <th>3</th>\n",
       "      <td>Restaurants</td>\n",
       "      <td>Tempe</td>\n",
       "      <td>EC9WB-iVjd28B6R6KIZ8TA</td>\n",
       "      <td>4/8/2010</td>\n",
       "      <td>4</td>\n",
       "      <td>Cliff notes\\n- Cheap: $1-2/plate\\n- Fast: It's...</td>\n",
       "      <td>0</td>\n",
       "      <td>jdoGEEy5s-5L1O_lNzEi2g</td>\n",
       "    </tr>\n",
       "    <tr>\n",
       "      <th>4</th>\n",
       "      <td>Cinema</td>\n",
       "      <td>Tempe</td>\n",
       "      <td>LDJhwZN14AZOJyHjg2lkRw</td>\n",
       "      <td>13/12/2011</td>\n",
       "      <td>4</td>\n",
       "      <td>We got passes for the preview of Mission Impos...</td>\n",
       "      <td>0</td>\n",
       "      <td>Mb0psF4WQF7gZSuZafVr-g</td>\n",
       "    </tr>\n",
       "  </tbody>\n",
       "</table>\n",
       "</div>"
      ],
      "text/plain": [
       "  business_categories business_city             business_id        date  \\\n",
       "0         Restaurants         Tempe  6oRAC4uyJCsJl1X0WZpVSA   14/6/2012   \n",
       "1       Beauty & Spas         Tempe  WGNIYMeXPyoWav1APUq7jA  23/12/2011   \n",
       "2          Automotive      Glendale  rxQ2PIjhAx6dgAqUalf99Q    9/9/2012   \n",
       "3         Restaurants         Tempe  EC9WB-iVjd28B6R6KIZ8TA    4/8/2010   \n",
       "4              Cinema         Tempe  LDJhwZN14AZOJyHjg2lkRw  13/12/2011   \n",
       "\n",
       "   stars                                               text  useful  \\\n",
       "0      4  love the gyro plate. Rice is so good and I als...       1   \n",
       "1      4  Good tattoo shop. Clean space, multiple artist...       2   \n",
       "2      5  Never having dealt with a Discount Tire in Pho...       0   \n",
       "3      4  Cliff notes\\n- Cheap: $1-2/plate\\n- Fast: It's...       0   \n",
       "4      4  We got passes for the preview of Mission Impos...       0   \n",
       "\n",
       "                  user_id  \n",
       "0  0hT2KtfLiobPvh6cDC8JQg  \n",
       "1  Xm8HXE1JHqscXe5BKf0GFQ  \n",
       "2  HLbhD2OyiMCUDRR4c1iXaw  \n",
       "3  jdoGEEy5s-5L1O_lNzEi2g  \n",
       "4  Mb0psF4WQF7gZSuZafVr-g  "
      ]
     },
     "execution_count": 358,
     "metadata": {},
     "output_type": "execute_result"
    }
   ],
   "source": [
    "sample_data.head(5)"
   ]
  },
  {
   "cell_type": "markdown",
   "id": "4d77d3c0",
   "metadata": {},
   "source": [
    "### Q1.2 Let's first check how many unique business categories are present in the dataset (output from Q1.1). Maybe it's still not an appropriate number to make a clear Boxplot. Now, we want to display `ALL Rows` of the business category count data. That is to count and print the number of occurrences for each business category."
   ]
  },
  {
   "cell_type": "code",
   "execution_count": 359,
   "id": "36f87584",
   "metadata": {},
   "outputs": [
    {
     "data": {
      "text/plain": [
       "Restaurants                   25212\n",
       "Coffee & Tea                   1116\n",
       "Shopping                       1099\n",
       "Italian                         960\n",
       "Ice Cream & Frozen Yogurt       728\n",
       "                              ...  \n",
       "Internet Service Providers        3\n",
       "Meat Shops                        3\n",
       "Psychics & Astrologers            3\n",
       "Orthodontists                     3\n",
       "Doctors                           3\n",
       "Name: business_categories, Length: 182, dtype: int64"
      ]
     },
     "execution_count": 359,
     "metadata": {},
     "output_type": "execute_result"
    }
   ],
   "source": [
    "sample_data[\"business_categories\"].value_counts()"
   ]
  },
  {
   "cell_type": "markdown",
   "id": "1c4f446f",
   "metadata": {},
   "source": [
    "### Q1.3 We want to remove categories that appear fewer than 200 times. Write a Python code snippet to perform this operation. At last, print the number of resulting unique business_categories."
   ]
  },
  {
   "cell_type": "code",
   "execution_count": 360,
   "id": "f1b9ed00",
   "metadata": {},
   "outputs": [
    {
     "name": "stdout",
     "output_type": "stream",
     "text": [
      "19\n"
     ]
    }
   ],
   "source": [
    "category_counts = sample_data['business_categories'].value_counts()[sample_data['business_categories'].value_counts() >= 200]\n",
    "sample_data = sample_data[sample_data['business_categories'].isin(category_counts.index)]\n",
    "print(sample_data[\"business_categories\"].unique().size)"
   ]
  },
  {
   "cell_type": "code",
   "execution_count": 361,
   "id": "fe3e0d3c",
   "metadata": {},
   "outputs": [
    {
     "name": "stdout",
     "output_type": "stream",
     "text": [
      "33535\n"
     ]
    }
   ],
   "source": [
    "print(len(sample_data))"
   ]
  },
  {
   "cell_type": "markdown",
   "id": "1649f53c",
   "metadata": {},
   "source": [
    "# Q2. Outliers"
   ]
  },
  {
   "attachments": {},
   "cell_type": "markdown",
   "id": "5c649505",
   "metadata": {},
   "source": [
    "### Q2.1 Remove any rows from the sample_data DataFrame (output from Q1.3) where the `useful` column has a value of 6 or more; Then, create a single figure with two subplots, one showing the boxplot of `useful` column of the original data and the other showing the boxplot of the data with outliers removed.\n",
    "\n",
    "At last, __print the length of the data__."
   ]
  },
  {
   "cell_type": "code",
   "execution_count": 362,
   "id": "3531504d",
   "metadata": {},
   "outputs": [],
   "source": [
    "sample_data_clean = sample_data[sample_data['useful'] < 6]"
   ]
  },
  {
   "cell_type": "code",
   "execution_count": 363,
   "id": "cf96626f",
   "metadata": {},
   "outputs": [
    {
     "data": {
      "image/png": "[encoded data removed]",
      "text/plain": [
       "<Figure size 720x360 with 2 Axes>"
      ]
     },
     "metadata": {
      "needs_background": "light"
     },
     "output_type": "display_data"
    }
   ],
   "source": [
    "fig, axs = plt.subplots(1, 2, figsize=(10, 5))\n",
    "\n",
    "#subplot 1\n",
    "sample_data.boxplot(column=\"useful\", ax=axs[0])\n",
    "axs[0].set_title('Data')\n",
    "\n",
    "#sublot 2\n",
    "sample_data_clean.boxplot(column=\"useful\", ax=axs[1])\n",
    "axs[1].set_title('Data with Outliers Removed')\n",
    "\n",
    "plt.show()\n"
   ]
  },
  {
   "cell_type": "code",
   "execution_count": 364,
   "id": "341bdaa4",
   "metadata": {},
   "outputs": [
    {
     "name": "stdout",
     "output_type": "stream",
     "text": [
      "32595\n"
     ]
    }
   ],
   "source": [
    "print(len(sample_data_clean))"
   ]
  },
  {
   "cell_type": "markdown",
   "id": "6c29233a",
   "metadata": {},
   "source": [
    "### Q2.2 In general, we might remove some inactive users from a dataset (output from Q2.1), for example, users who rate businesses less than 3 times. However, in this case, we are doing the opposite and removing extremely active users who rate businesses more than 30 times (>30). Again, create a single figure with two subplots, one showing the boxplot of the count of business rating given by each user and the other showing the boxplot of the data with outliers removed. \n",
    "\n",
    "At last, __print the length of the data__."
   ]
  },
  {
   "cell_type": "code",
   "execution_count": 365,
   "id": "cb385f82",
   "metadata": {},
   "outputs": [
    {
     "name": "stdout",
     "output_type": "stream",
     "text": [
      "12651 :  12579\n"
     ]
    }
   ],
   "source": [
    "user_counts = sample_data['user_id'].value_counts()\n",
    "user_active = user_counts[user_counts <= 30].index\n",
    "sample_data_inactive = sample_data_clean[sample_data_clean['user_id'].isin(user_active)]\n",
    "print(len(user_counts) , \": \" , len(user_active))"
   ]
  },
  {
   "cell_type": "code",
   "execution_count": 366,
   "id": "4ede721a",
   "metadata": {},
   "outputs": [
    {
     "data": {
      "text/plain": [
       "<function matplotlib.pyplot.show(close=None, block=None)>"
      ]
     },
     "execution_count": 366,
     "metadata": {},
     "output_type": "execute_result"
    },
    {
     "data": {
      "image/png": "[encoded data removed]",
      "text/plain": [
       "<Figure size 720x360 with 2 Axes>"
      ]
     },
     "metadata": {
      "needs_background": "light"
     },
     "output_type": "display_data"
    }
   ],
   "source": [
    "fig, axs = plt.subplots(1, 2, figsize=(10, 5))\n",
    "\n",
    "#subplot 1\n",
    "axs[0].boxplot(sample_data_clean.groupby('user_id').size())\n",
    "axs[0].set_xlabel('Count of Business Ratings')\n",
    "axs[0].grid()\n",
    "\n",
    "#subplot 2\n",
    "axs[1].boxplot(sample_data_inactive.groupby('user_id').size())\n",
    "axs[1].set_xlabel('Count of Business Ratings with Active Users removed')\n",
    "axs[1].grid()\n",
    "\n",
    "plt.show"
   ]
  },
  {
   "cell_type": "code",
   "execution_count": 367,
   "id": "aea6ac7f",
   "metadata": {},
   "outputs": [
    {
     "name": "stdout",
     "output_type": "stream",
     "text": [
      "29530\n"
     ]
    }
   ],
   "source": [
    "print(len(sample_data_inactive))"
   ]
  },
  {
   "cell_type": "markdown",
   "id": "95827eb7",
   "metadata": {},
   "source": [
    "# Q3. Training a LinearRegression model on the data output from Q2.2."
   ]
  },
  {
   "cell_type": "markdown",
   "id": "bd4568bd",
   "metadata": {},
   "source": [
    "### Q3.1 How to build a linear regression model on a subset of the data, using the `useful` column as the input variable and the `stars` column as the output variable. Split the data into a training set and a test set, with 70% of the data used for training. The random_state is set to 42."
   ]
  },
  {
   "cell_type": "code",
   "execution_count": 368,
   "id": "d778cd98",
   "metadata": {},
   "outputs": [
    {
     "name": "stdout",
     "output_type": "stream",
     "text": [
      "y_1 = x_1 * [-0.07757764] + 3.80211068197581\n",
      "y_1 = x_1 * [-0.08360348] + 3.803613811926442\n"
     ]
    }
   ],
   "source": [
    "reg_1 = linear_model.LinearRegression()\n",
    "X_1 = sample_data_inactive[['useful']]\n",
    "y_1 = sample_data_inactive['stars']\n",
    "reg_1.fit(X_1, y_1)\n",
    "print(\"y_1 = x_1 *\", reg_1.coef_, \"+\", reg_1.intercept_)\n",
    "\n",
    "X_train_1, X_test_1, y_train_1, y_test_1 = train_test_split(X_1, y_1, train_size=0.7, random_state=42)\n",
    "reg_1.fit(X_train_1, y_train_1)\n",
    "print(\"y_1 = x_1 *\", reg_1.coef_, \"+\", reg_1.intercept_)\n"
   ]
  },
  {
   "cell_type": "markdown",
   "id": "a863d87e",
   "metadata": {},
   "source": [
    "### Q3.2 Assuming that the number of reviews a business has received  `business_review_count`  can greatly influence the average rating that the business has received. Now, we create the relevant variable to the data, and do the LinearRegression again to the `stars`. "
   ]
  },
  {
   "cell_type": "code",
   "execution_count": 369,
   "id": "6d9b8d61",
   "metadata": {},
   "outputs": [
    {
     "name": "stderr",
     "output_type": "stream",
     "text": [
      "C:\\Users\\moham\\AppData\\Local\\Temp/ipykernel_24080/297902836.py:3: SettingWithCopyWarning: \n",
      "A value is trying to be set on a copy of a slice from a DataFrame.\n",
      "Try using .loc[row_indexer,col_indexer] = value instead\n",
      "\n",
      "See the caveats in the documentation: https://pandas.pydata.org/pandas-docs/stable/user_guide/indexing.html#returning-a-view-versus-a-copy\n",
      "  sample_data_inactive['business_review_count'] = sample_data['business_id'].map(review_counts_dict)\n"
     ]
    }
   ],
   "source": [
    "review_counts = sample_data_inactive.groupby('business_id').size()\n",
    "review_counts_dict = review_counts.to_dict()\n",
    "sample_data_inactive['business_review_count'] = sample_data['business_id'].map(review_counts_dict)"
   ]
  },
  {
   "cell_type": "code",
   "execution_count": 370,
   "id": "55b0d22f",
   "metadata": {},
   "outputs": [
    {
     "name": "stdout",
     "output_type": "stream",
     "text": [
      "y_2 = x_2 * [0.00143517] + 3.58935710592453\n",
      "y_2 = x_2 * [0.00146275] + 3.5829831924517914\n"
     ]
    }
   ],
   "source": [
    "reg_2 = linear_model.LinearRegression()\n",
    "X_2 = sample_data_inactive[['business_review_count']]\n",
    "y_2 =  sample_data_inactive['stars']\n",
    "reg_2.fit(X_2, y_2)\n",
    "print(\"y_2 = x_2 *\", reg_2.coef_, \"+\", reg_2.intercept_)\n",
    "\n",
    "X_train_2, X_test_2, y_train_2, y_test_2 = train_test_split(X_2, y_2, train_size=0.7, random_state=42)\n",
    "reg_2.fit(X_train_2, y_train_2)\n",
    "print(\"y_2 = x_2 *\", reg_2.coef_, \"+\", reg_2.intercept_)\n",
    "\n"
   ]
  },
  {
   "cell_type": "markdown",
   "id": "417bf155",
   "metadata": {},
   "source": [
    "### Q3.3 Output the correlations between `business_review_count` and `useful` variables with `stars` and analyze the results."
   ]
  },
  {
   "cell_type": "code",
   "execution_count": 371,
   "id": "d61193d4",
   "metadata": {},
   "outputs": [
    {
     "name": "stdout",
     "output_type": "stream",
     "text": [
      "MSE:  1.5205937739354676\n",
      "R squared:  0.005812634095645919\n"
     ]
    }
   ],
   "source": [
    "#useful\n",
    "predicted_1 = reg_1.predict(X_train_1)\n",
    "mse_1 = ((np.array(y_train_1) - predicted_1) **2).sum()/len(y_train_1)\n",
    "r2_1 = r2_score(y_train_1, predicted_1)\n",
    "print(\"MSE: \", mse_1)\n",
    "print(\"R squared: \", r2_1)"
   ]
  },
  {
   "cell_type": "code",
   "execution_count": 372,
   "id": "15e7c1fc",
   "metadata": {},
   "outputs": [
    {
     "name": "stdout",
     "output_type": "stream",
     "text": [
      "MSE:  1.4832782545350116\n",
      "R squared:  0.0032844691905815626\n"
     ]
    }
   ],
   "source": [
    "predicted_1 = reg_1.predict(X_test_1)\n",
    "mse_1 = ((np.array(y_test_1) - predicted_1) **2).sum()/len(y_test_1)\n",
    "r2_1 = r2_score(y_test_1, predicted_1)\n",
    "print(\"MSE: \", mse_1)\n",
    "print(\"R squared: \", r2_1)"
   ]
  },
  {
   "attachments": {},
   "cell_type": "markdown",
   "id": "cf284c0f",
   "metadata": {},
   "source": [
    "* r2 score close to 0 means the regression line doesnt fit the data well\n",
    "* high mse score means the model is underfitting and too simple\n",
    "* meaning the variable 'useful' and 'stars' are not correlated"
   ]
  },
  {
   "cell_type": "code",
   "execution_count": 373,
   "id": "904f6092",
   "metadata": {},
   "outputs": [
    {
     "name": "stdout",
     "output_type": "stream",
     "text": [
      "MSE:  1.4934908033268104\n",
      "R squared:  0.023532969019723904\n"
     ]
    }
   ],
   "source": [
    "predicted_2 = reg_2.predict(X_train_2)\n",
    "mse_2 = ((np.array(y_train_2) - predicted_2) **2).sum()/len(y_train_2)\n",
    "r2_2 = r2_score(y_train_2, predicted_2)\n",
    "print(\"MSE: \", mse_2)\n",
    "print(\"R squared: \", r2_2)"
   ]
  },
  {
   "cell_type": "code",
   "execution_count": 374,
   "id": "09391b1e",
   "metadata": {},
   "outputs": [
    {
     "name": "stdout",
     "output_type": "stream",
     "text": [
      "MSE:  1.4569845056938466\n",
      "R squared:  0.02095302716550229\n"
     ]
    }
   ],
   "source": [
    "predicted_2 = reg_2.predict(X_test_2)\n",
    "mse_2 = ((np.array(y_test_2) - predicted_2) **2).sum()/len(y_test_2)\n",
    "r2_2 = r2_score(y_test_2, predicted_2)\n",
    "print(\"MSE: \", mse_2)\n",
    "print(\"R squared: \", r2_2)"
   ]
  },
  {
   "attachments": {},
   "cell_type": "markdown",
   "id": "75acc44d",
   "metadata": {},
   "source": [
    "* r2 score still close to 0 but bigger than 'useful' variable r2 score therefore this regression line fits better than the previous however it still doesnt fit well\n",
    "* mse value is still high but lower than 'useful' variable hence this model is not as underfitted as the other but still is too underfitted and simple to use\n",
    "* more correlated to 'stars' than 'useful' but not by much"
   ]
  }
 ],
 "metadata": {
  "kernelspec": {
   "display_name": "Python 3 (ipykernel)",
   "language": "python",
   "name": "python3"
  },
  "language_info": {
   "codemirror_mode": {
    "name": "ipython",
    "version": 3
   },
   "file_extension": ".py",
   "mimetype": "text/x-python",
   "name": "python",
   "nbconvert_exporter": "python",
   "pygments_lexer": "ipython3",
   "version": "3.9.7"
  }
 },
 "nbformat": 4,
 "nbformat_minor": 5
}
