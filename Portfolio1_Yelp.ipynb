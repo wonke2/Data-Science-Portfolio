{
 "cells": [
  {
   "cell_type": "markdown",
   "id": "379d9b3f",
   "metadata": {},
   "source": [
    "# Analysis of Yelp Data\n",
    "\n",
    "\n",
    "The Yelp dataset is a collection of user-generated reviews and associated data for businesses in various cities. The data includes information such as the business name, category, location, and rating, as well as the user ID and review text for each review. This data can be used to analyze patterns and trends in consumer behavior, business performance, and geographic locations. Additionally, the dataset provides an opportunity to explore the relationships between different variables, such as ratings, reviews, and business categories. This data can be leveraged to gain insights and make informed decisions in a variety of industries, including marketing, business management, and public policy.\n",
    "\n",
    "Description of the variables of the data used here.\n",
    "\n",
    "* __business_id__ - A unique identifier for each business in the dataset\n",
    "* __business_categories__ - A list of categories associated with the business\n",
    "* __business_city__ - The city where the business is located.\n",
    "* __user_id__ - A unique identifier for each user who has written a review.\n",
    "* __text__ - The text of the review.\n",
    "* __stars__ - The user's rating towards the business\n",
    "* __useful__ - The number of times the review was voted as useful.\n",
    "* __date__ - The date the review was posted."
   ]
  },
  {
   "cell_type": "markdown",
   "id": "5edf3fef",
   "metadata": {},
   "source": [
    " # Q1. Check and remove missing data\n",
    " \n",
    "### Q1.1 Write a Python code snippet that checks for missing values in each column of the dataset. If any, only display the names of the columns with missing values and their corresponding number of missing values. Print the length of the data before removing the missing data.\n",
    "\n",
    "Note: Only output the number of missing values for the columns having at least one missing value!"
   ]
  },
  {
   "cell_type": "code",
   "execution_count": null,
   "id": "5303e35a",
   "metadata": {},
   "outputs": [],
   "source": [
    "# your code and solutions"
   ]
  },
  {
   "cell_type": "markdown",
   "id": "da3df088",
   "metadata": {},
   "source": [
    "### Q1.2 Remove any row that contains at least one missing value, and output the length of the resulting cleaned dataset; After that, remove any row that contain invalid value with either \"#NAME?\" or \"#VALUE!\" in the `business_id` and `user_id` columns, and output the length of the resulting cleaned dataset."
   ]
  },
  {
   "cell_type": "code",
   "execution_count": null,
   "id": "ba17f19d",
   "metadata": {},
   "outputs": [],
   "source": [
    "# your code and solutions"
   ]
  },
  {
   "cell_type": "markdown",
   "id": "334b9f9e",
   "metadata": {},
   "source": [
    "# Q2. Random Subset Selection of Yelp Businesses by City"
   ]
  },
  {
   "cell_type": "markdown",
   "id": "b386ff6c",
   "metadata": {},
   "source": [
    "Selecting a random subset of cities from the Yelp business dataset and extracting all the rows corresponding to businesses located in those cities can be useful for various purposes. For example, it can be used to \n",
    "perform exploratory data analysis on a smaller subset of the dataset, which can be more manageable and faster to process than the entire dataset. Suppose you want to select a random subset of 10 cities from the dataset and extract all the rows that correspond to businesses located in those cities. At last, print the length of the resulting sample data. Write Python code that accomplishes this task.\n",
    "\n",
    "Note: Use the $random.sample()$ function to select 10 random cities from the list of unique cities. Set the random seed to 42 before selecting the cities!!!"
   ]
  },
  {
   "cell_type": "code",
   "execution_count": null,
   "id": "0abef7dc",
   "metadata": {},
   "outputs": [],
   "source": [
    "# your code and solutions"
   ]
  },
  {
   "cell_type": "markdown",
   "id": "0ff5298a",
   "metadata": {},
   "source": [
    "# Q3. Descriptive statistics on the data output from Q2\n",
    "### Q3.1 Compute summary statistics for the `stars` column of the sample data\n",
    "Note: the resulting output includes the count, mean, standard deviation, minimum, maximum values of the column."
   ]
  },
  {
   "cell_type": "code",
   "execution_count": null,
   "id": "02571c2c",
   "metadata": {},
   "outputs": [],
   "source": [
    "# your code and solutions"
   ]
  },
  {
   "cell_type": "markdown",
   "id": "9ac40c1f",
   "metadata": {},
   "source": [
    "### Q3.2 For each city in the dataframe, how many unique businesses are there?\n",
    "\n",
    "Note: the resulting dataframe has two columns: `business_city` and `count`. Compute summary statistics (similar as Q 3.1) for the `count` column."
   ]
  },
  {
   "cell_type": "code",
   "execution_count": null,
   "id": "42af9783",
   "metadata": {},
   "outputs": [],
   "source": [
    "# your code and solutions"
   ]
  },
  {
   "cell_type": "markdown",
   "id": "90c84abe",
   "metadata": {},
   "source": [
    "### Q3.3 For each business category and business ID combination in the dataframe, how many unique users have rated the business?\n",
    "\n",
    "Note: the resulting dataframe has three columns: `business_categories`, `business_id`, and `count`. Compute summary statistics (similar as Q 3.1) for the `count` column."
   ]
  },
  {
   "cell_type": "code",
   "execution_count": null,
   "id": "442afa03",
   "metadata": {},
   "outputs": [],
   "source": [
    "# your code and solutions"
   ]
  },
  {
   "cell_type": "markdown",
   "id": "8e5b9d9f",
   "metadata": {},
   "source": [
    "# Q4. Plotting and Analysis"
   ]
  },
  {
   "cell_type": "markdown",
   "id": "1fe2a1bb",
   "metadata": {},
   "source": [
    "Explore the distribution of each variable, or the correlation between the `business_city`, `useful`,`business_categories` or `other variables` and the `stars` column in both the cleaned dataset from Q1 and the sampled dataset from Q2. For instance, does some cities tend to provide higher stars than others? Hint: you may use the boxplot function to plot figures for comparison (___Challenge___).\n",
    "    \n",
    "You may need to select the most suitable graphic forms for ease of presentation. Most importantly, for each figure or subfigure, please summarise ___what each plot shows___ (i.e. observations and explanations). Finally, you may need to provide an overall summary of the Yelp data."
   ]
  },
  {
   "cell_type": "markdown",
   "id": "d5e27994",
   "metadata": {},
   "source": [
    "Analysis and observation are open, and require you to think critically and analyze data to develop your own insights and conclusions. It's important for you to analyze the data, identify patterns, draw your own conclusions, and communicate your findings. This fosters critical thinking skills, ownership of learning, and a deeper understanding of the data."
   ]
  },
  {
   "cell_type": "code",
   "execution_count": null,
   "id": "2f89f8c6",
   "metadata": {},
   "outputs": [],
   "source": [
    "# your code and solutions"
   ]
  }
 ],
 "metadata": {
  "kernelspec": {
   "display_name": "Python 3 (ipykernel)",
   "language": "python",
   "name": "python3"
  },
  "language_info": {
   "codemirror_mode": {
    "name": "ipython",
    "version": 3
   },
   "file_extension": ".py",
   "mimetype": "text/x-python",
   "name": "python",
   "nbconvert_exporter": "python",
   "pygments_lexer": "ipython3",
   "version": "3.9.16"
  }
 },
 "nbformat": 4,
 "nbformat_minor": 5
}
